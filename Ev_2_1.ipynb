{
 "cells": [
  {
   "cell_type": "markdown",
   "id": "996bc0cd-1afa-4fec-b58b-2c438b6dca41",
   "metadata": {},
   "source": [
    "## **Evidencia 2.1**"
   ]
  },
  {
   "cell_type": "markdown",
   "id": "323af881-b236-4fd6-aa86-0cc9d5205438",
   "metadata": {},
   "source": [
    "Crear un programa donde se defina una clase, que contenga atributos, propiedades, métodos, y método constructor."
   ]
  },
  {
   "cell_type": "markdown",
   "id": "85051d21-6333-4c00-bed6-f2b24ef627c2",
   "metadata": {},
   "source": [
    "Explicar qué hace la clase, y demostrar su uso."
   ]
  },
  {
   "cell_type": "code",
   "execution_count": 45,
   "id": "75249dec-7702-49c1-a723-03ac152ac21a",
   "metadata": {},
   "outputs": [
    {
     "name": "stdout",
     "output_type": "stream",
     "text": [
      "Título: Harry Potter y el prisionero de azkaban\n",
      "Autor: J.K. Rowling\n",
      "Año de Publicación: 1999\n",
      "Género: Fantasía\n"
     ]
    }
   ],
   "source": [
    "class Libro:\n",
    "    def __init__(self, titulo, autor, ano_publicacion, genero):\n",
    "        self._titulo=titulo\n",
    "        self._autor=autor\n",
    "        self._ano_publicacion=ano_publicacion\n",
    "        self._genero=genero\n",
    "\n",
    "    @property\n",
    "    def titulo(self):\n",
    "        return self._titulo\n",
    "\n",
    "    @property\n",
    "    def autor(self):\n",
    "        return self._autor\n",
    "\n",
    "    @property\n",
    "    def ano_publicacion(self):\n",
    "        return self._ano_publicacion\n",
    "\n",
    "    @property\n",
    "    def genero(self):\n",
    "        return self._genero\n",
    "\n",
    "    def mostrar_informacion(self):\n",
    "        print(f\"Título: {self.titulo}\")\n",
    "        print(f\"Autor: {self.autor}\")\n",
    "        print(f\"Año de Publicación: {self.ano_publicacion}\")\n",
    "        print(f\"Género: {self.genero}\")\n",
    "\n",
    "\n",
    "# Ejemplo de uso\n",
    "libro_1=Libro(\"Harry Potter y el prisionero de azkaban\", \"J.K. Rowling\", 1999, \"Fantasía\")\n",
    "\n",
    "#Imprimir la información del libro\n",
    "libro_1.mostrar_informacion()\n",
    "\n"
   ]
  },
  {
   "cell_type": "markdown",
   "id": "c29435b0-7c01-4522-850d-68b967709f94",
   "metadata": {},
   "source": [
    "#### Explicación"
   ]
  },
  {
   "cell_type": "markdown",
   "id": "53b247b3-5e68-4d2d-b884-6ed6384fb9d9",
   "metadata": {},
   "source": [
    "El programa muestra la ficha de información básica de un libro cualquiera. En este caso se uso uno de los libros de \"Harry Potter\".\n",
    "\n",
    "Básicamente la función de la clase Libro, es la de recopilar los datos de un libro para poder mostrar su información."
   ]
  }
 ],
 "metadata": {
  "kernelspec": {
   "display_name": "anaconda-panel-2023.05-py310",
   "language": "python",
   "name": "conda-env-anaconda-panel-2023.05-py310-py"
  },
  "language_info": {
   "codemirror_mode": {
    "name": "ipython",
    "version": 3
   },
   "file_extension": ".py",
   "mimetype": "text/x-python",
   "name": "python",
   "nbconvert_exporter": "python",
   "pygments_lexer": "ipython3",
   "version": "3.11.5"
  }
 },
 "nbformat": 4,
 "nbformat_minor": 5
}
